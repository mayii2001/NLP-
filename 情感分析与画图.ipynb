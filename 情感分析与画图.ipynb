{
 "cells": [
  {
   "cell_type": "code",
   "execution_count": 178,
   "metadata": {},
   "outputs": [
    {
     "data": {
      "text/plain": "        博文发布时间         评论时间            评论内容                         二级评论内容  \\\n0  7月24日 09:14  7月24日 09:17  西药就西药中西医结合就算了吧  灰灰_灰灰：回复@有则改之无则加勉:可能就你不知道疫苗原理   \n1  7月24日 09:14  7月24日 09:17  西药就西药中西医结合就算了吧        语帝：西药治病，中药挣钱，赢两次，凭什么就算了   \n2  7月24日 09:14  7月24日 09:17  西药就西药中西医结合就算了吧    降落雨伞：回复@有则改之无则加勉:打你的中药注射液去吧   \n\n        二级评论时间  \n0  7月24日 13:31  \n1  7月24日 12:33  \n2  7月24日 10:29  ",
      "text/html": "<div>\n<style scoped>\n    .dataframe tbody tr th:only-of-type {\n        vertical-align: middle;\n    }\n\n    .dataframe tbody tr th {\n        vertical-align: top;\n    }\n\n    .dataframe thead th {\n        text-align: right;\n    }\n</style>\n<table border=\"1\" class=\"dataframe\">\n  <thead>\n    <tr style=\"text-align: right;\">\n      <th></th>\n      <th>博文发布时间</th>\n      <th>评论时间</th>\n      <th>评论内容</th>\n      <th>二级评论内容</th>\n      <th>二级评论时间</th>\n    </tr>\n  </thead>\n  <tbody>\n    <tr>\n      <th>0</th>\n      <td>7月24日 09:14</td>\n      <td>7月24日 09:17</td>\n      <td>西药就西药中西医结合就算了吧</td>\n      <td>灰灰_灰灰：回复@有则改之无则加勉:可能就你不知道疫苗原理</td>\n      <td>7月24日 13:31</td>\n    </tr>\n    <tr>\n      <th>1</th>\n      <td>7月24日 09:14</td>\n      <td>7月24日 09:17</td>\n      <td>西药就西药中西医结合就算了吧</td>\n      <td>语帝：西药治病，中药挣钱，赢两次，凭什么就算了</td>\n      <td>7月24日 12:33</td>\n    </tr>\n    <tr>\n      <th>2</th>\n      <td>7月24日 09:14</td>\n      <td>7月24日 09:17</td>\n      <td>西药就西药中西医结合就算了吧</td>\n      <td>降落雨伞：回复@有则改之无则加勉:打你的中药注射液去吧</td>\n      <td>7月24日 10:29</td>\n    </tr>\n  </tbody>\n</table>\n</div>"
     },
     "execution_count": 178,
     "metadata": {},
     "output_type": "execute_result"
    }
   ],
   "source": [
    "import pandas as pd\n",
    "from matplotlib import font_manager\n",
    "from matplotlib.dates import DateFormatter, AutoDateLocator\n",
    "\n",
    "from snownlp import SnowNLP\n",
    "\n",
    "from snownlp import sentiment\n",
    "\n",
    "import matplotlib.pyplot as plt\n",
    "import datetime\n",
    "\n",
    "import time\n",
    "\n",
    "\n",
    "\n",
    "\n",
    "\n",
    "\n",
    "df = pd.read_excel('微博-凤凰博文评论1.xlsx')\n",
    "df = df[['博文发布时间','评论时间','评论内容','二级评论内容','二级评论时间']]\n",
    "df=df.dropna(axis=0,subset = [\"博文发布时间\"])   # 丢弃\"评论内容\"列中有缺失值的行\n",
    "df.head(3)\n"
   ]
  },
  {
   "cell_type": "code",
   "execution_count": 179,
   "metadata": {},
   "outputs": [
    {
     "name": "stdout",
     "output_type": "stream",
     "text": [
      "<class 'str'>\n"
     ]
    },
    {
     "data": {
      "text/plain": "int"
     },
     "execution_count": 179,
     "metadata": {},
     "output_type": "execute_result"
    }
   ],
   "source": [
    "print(type(df.iloc[1]['博文发布时间']) )   \n",
    "len=df.shape[0]\n",
    "type(len)\n"
   ]
  },
  {
   "cell_type": "code",
   "execution_count": 180,
   "metadata": {},
   "outputs": [],
   "source": [
    "def GetStrptime (df,x,fromat,name='Strptime'):\n",
    "    timeL=[]\n",
    "    for i in df[x]:\n",
    "        start = time.strptime(i,fromat)#注意这里用的是年月日隔开\n",
    "        start = time.strftime('%m-%d',start)\n",
    "        timeL.append(start)\n",
    "    df[name]=timeL\n",
    "\n",
    "GetStrptime(df,'博文发布时间','%m月%d日 %H:%M','time')"
   ]
  },
  {
   "cell_type": "code",
   "execution_count": 181,
   "metadata": {},
   "outputs": [
    {
     "data": {
      "text/plain": "           博文发布时间         评论时间  \\\n0     7月24日 09:14  7月24日 09:17   \n4     7月24日 09:14  7月24日 09:23   \n6     7月24日 09:14  7月24日 09:34   \n20    7月24日 09:14  7月24日 09:20   \n22    7月24日 09:14  7月24日 10:22   \n...           ...          ...   \n2446  6月15日 08:22  6月15日 15:30   \n2447  6月15日 08:22  6月15日 15:20   \n2448  6月15日 08:22  6月15日 14:47   \n2449  6月15日 08:22  6月15日 14:15   \n2450  6月15日 08:22  6月15日 09:39   \n\n                                                   评论内容  \n0                                        西药就西药中西医结合就算了吧  \n4        所以别指望打了疫苗就可以一劳永逸，别杠我，这样想法的人还不少，还是老老实实戴口罩和减少聚集吧  \n6     1.说明打了疫苗还是会得新冠。2.并没有说明轻微症状和打了疫苗的因果联系。3.缺少大数据支撑...  \n20    这个没看懂：确诊病例绝大部分打过疫苗，那是多少个确诊病例啊？绝大部分是多少人啊？打的什么疫苗...  \n22    有关方面有木有推敲过措辞？疫苗的作用是产生抗体，抵御细菌或者病毒的侵袭。好像和感染后，症状轻...  \n...                                                 ...  \n2446                          #新冠病毒传播速度超过疫苗分发速度#庆幸自己在中国  \n2447                                                🙏🙏🙏  \n2448           最主要的是有的国家（比如：美国）它积压那么多疫苗，只留给贵族，穷人它们是不管的。  \n2449                                          大力国不怕天不怕地  \n2450  抗战艰难皆因少数志士不仅要杀鬼锄奸，还要保护谄媚疯买日美货旅游的傻瓜…！卖给中国日化商品里更...  \n\n[1584 rows x 3 columns]",
      "text/html": "<div>\n<style scoped>\n    .dataframe tbody tr th:only-of-type {\n        vertical-align: middle;\n    }\n\n    .dataframe tbody tr th {\n        vertical-align: top;\n    }\n\n    .dataframe thead th {\n        text-align: right;\n    }\n</style>\n<table border=\"1\" class=\"dataframe\">\n  <thead>\n    <tr style=\"text-align: right;\">\n      <th></th>\n      <th>博文发布时间</th>\n      <th>评论时间</th>\n      <th>评论内容</th>\n    </tr>\n  </thead>\n  <tbody>\n    <tr>\n      <th>0</th>\n      <td>7月24日 09:14</td>\n      <td>7月24日 09:17</td>\n      <td>西药就西药中西医结合就算了吧</td>\n    </tr>\n    <tr>\n      <th>4</th>\n      <td>7月24日 09:14</td>\n      <td>7月24日 09:23</td>\n      <td>所以别指望打了疫苗就可以一劳永逸，别杠我，这样想法的人还不少，还是老老实实戴口罩和减少聚集吧</td>\n    </tr>\n    <tr>\n      <th>6</th>\n      <td>7月24日 09:14</td>\n      <td>7月24日 09:34</td>\n      <td>1.说明打了疫苗还是会得新冠。2.并没有说明轻微症状和打了疫苗的因果联系。3.缺少大数据支撑...</td>\n    </tr>\n    <tr>\n      <th>20</th>\n      <td>7月24日 09:14</td>\n      <td>7月24日 09:20</td>\n      <td>这个没看懂：确诊病例绝大部分打过疫苗，那是多少个确诊病例啊？绝大部分是多少人啊？打的什么疫苗...</td>\n    </tr>\n    <tr>\n      <th>22</th>\n      <td>7月24日 09:14</td>\n      <td>7月24日 10:22</td>\n      <td>有关方面有木有推敲过措辞？疫苗的作用是产生抗体，抵御细菌或者病毒的侵袭。好像和感染后，症状轻...</td>\n    </tr>\n    <tr>\n      <th>...</th>\n      <td>...</td>\n      <td>...</td>\n      <td>...</td>\n    </tr>\n    <tr>\n      <th>2446</th>\n      <td>6月15日 08:22</td>\n      <td>6月15日 15:30</td>\n      <td>#新冠病毒传播速度超过疫苗分发速度#庆幸自己在中国</td>\n    </tr>\n    <tr>\n      <th>2447</th>\n      <td>6月15日 08:22</td>\n      <td>6月15日 15:20</td>\n      <td>🙏🙏🙏</td>\n    </tr>\n    <tr>\n      <th>2448</th>\n      <td>6月15日 08:22</td>\n      <td>6月15日 14:47</td>\n      <td>最主要的是有的国家（比如：美国）它积压那么多疫苗，只留给贵族，穷人它们是不管的。</td>\n    </tr>\n    <tr>\n      <th>2449</th>\n      <td>6月15日 08:22</td>\n      <td>6月15日 14:15</td>\n      <td>大力国不怕天不怕地</td>\n    </tr>\n    <tr>\n      <th>2450</th>\n      <td>6月15日 08:22</td>\n      <td>6月15日 09:39</td>\n      <td>抗战艰难皆因少数志士不仅要杀鬼锄奸，还要保护谄媚疯买日美货旅游的傻瓜…！卖给中国日化商品里更...</td>\n    </tr>\n  </tbody>\n</table>\n<p>1584 rows × 3 columns</p>\n</div>"
     },
     "execution_count": 181,
     "metadata": {},
     "output_type": "execute_result"
    }
   ],
   "source": [
    "firstC=df[['博文发布时间','评论时间','评论内容']]\n",
    "firstC=firstC.drop_duplicates(subset='评论内容')    #不重复的一级评论\n",
    "firstC=firstC.dropna(axis=0,subset = [\"评论内容\"])   # 丢弃\"评论内容\"列中有缺失值的行\n",
    "firstC"
   ]
  },
  {
   "cell_type": "code",
   "execution_count": 182,
   "outputs": [],
   "source": [
    "def SenAnalyize(objectDf,data,senti):\n",
    "    \"\"\"情感分析函数（目标dataframe，列名，情感值列名）\"\"\"  #没用上\n",
    "    senti=[SnowNLP(i).sentiments for i in objectDf[data]]"
   ],
   "metadata": {
    "collapsed": false,
    "pycharm": {
     "name": "#%%\n"
    }
   }
  },
  {
   "cell_type": "code",
   "execution_count": 188,
   "outputs": [
    {
     "data": {
      "text/plain": "           博文发布时间         评论时间  \\\n0     7月24日 09:14  7月24日 09:17   \n4     7月24日 09:14  7月24日 09:23   \n6     7月24日 09:14  7月24日 09:34   \n20    7月24日 09:14  7月24日 09:20   \n22    7月24日 09:14  7月24日 10:22   \n...           ...          ...   \n2446  6月15日 08:22  6月15日 15:30   \n2447  6月15日 08:22  6月15日 15:20   \n2448  6月15日 08:22  6月15日 14:47   \n2449  6月15日 08:22  6月15日 14:15   \n2450  6月15日 08:22  6月15日 09:39   \n\n                                                   评论内容   time       情感值  \n0                                        西药就西药中西医结合就算了吧  07-24  0.748803  \n4        所以别指望打了疫苗就可以一劳永逸，别杠我，这样想法的人还不少，还是老老实实戴口罩和减少聚集吧  07-24  0.979188  \n6     1.说明打了疫苗还是会得新冠。2.并没有说明轻微症状和打了疫苗的因果联系。3.缺少大数据支撑...  07-24  0.980646  \n20    这个没看懂：确诊病例绝大部分打过疫苗，那是多少个确诊病例啊？绝大部分是多少人啊？打的什么疫苗...  07-24  0.995789  \n22    有关方面有木有推敲过措辞？疫苗的作用是产生抗体，抵御细菌或者病毒的侵袭。好像和感染后，症状轻...  07-24  0.698275  \n...                                                 ...    ...       ...  \n2446                          #新冠病毒传播速度超过疫苗分发速度#庆幸自己在中国  06-15  0.995321  \n2447                                                🙏🙏🙏  06-15  0.500000  \n2448           最主要的是有的国家（比如：美国）它积压那么多疫苗，只留给贵族，穷人它们是不管的。  06-15  0.722874  \n2449                                          大力国不怕天不怕地  06-15  0.535310  \n2450  抗战艰难皆因少数志士不仅要杀鬼锄奸，还要保护谄媚疯买日美货旅游的傻瓜…！卖给中国日化商品里更...  06-15  1.000000  \n\n[1584 rows x 5 columns]",
      "text/html": "<div>\n<style scoped>\n    .dataframe tbody tr th:only-of-type {\n        vertical-align: middle;\n    }\n\n    .dataframe tbody tr th {\n        vertical-align: top;\n    }\n\n    .dataframe thead th {\n        text-align: right;\n    }\n</style>\n<table border=\"1\" class=\"dataframe\">\n  <thead>\n    <tr style=\"text-align: right;\">\n      <th></th>\n      <th>博文发布时间</th>\n      <th>评论时间</th>\n      <th>评论内容</th>\n      <th>time</th>\n      <th>情感值</th>\n    </tr>\n  </thead>\n  <tbody>\n    <tr>\n      <th>0</th>\n      <td>7月24日 09:14</td>\n      <td>7月24日 09:17</td>\n      <td>西药就西药中西医结合就算了吧</td>\n      <td>07-24</td>\n      <td>0.748803</td>\n    </tr>\n    <tr>\n      <th>4</th>\n      <td>7月24日 09:14</td>\n      <td>7月24日 09:23</td>\n      <td>所以别指望打了疫苗就可以一劳永逸，别杠我，这样想法的人还不少，还是老老实实戴口罩和减少聚集吧</td>\n      <td>07-24</td>\n      <td>0.979188</td>\n    </tr>\n    <tr>\n      <th>6</th>\n      <td>7月24日 09:14</td>\n      <td>7月24日 09:34</td>\n      <td>1.说明打了疫苗还是会得新冠。2.并没有说明轻微症状和打了疫苗的因果联系。3.缺少大数据支撑...</td>\n      <td>07-24</td>\n      <td>0.980646</td>\n    </tr>\n    <tr>\n      <th>20</th>\n      <td>7月24日 09:14</td>\n      <td>7月24日 09:20</td>\n      <td>这个没看懂：确诊病例绝大部分打过疫苗，那是多少个确诊病例啊？绝大部分是多少人啊？打的什么疫苗...</td>\n      <td>07-24</td>\n      <td>0.995789</td>\n    </tr>\n    <tr>\n      <th>22</th>\n      <td>7月24日 09:14</td>\n      <td>7月24日 10:22</td>\n      <td>有关方面有木有推敲过措辞？疫苗的作用是产生抗体，抵御细菌或者病毒的侵袭。好像和感染后，症状轻...</td>\n      <td>07-24</td>\n      <td>0.698275</td>\n    </tr>\n    <tr>\n      <th>...</th>\n      <td>...</td>\n      <td>...</td>\n      <td>...</td>\n      <td>...</td>\n      <td>...</td>\n    </tr>\n    <tr>\n      <th>2446</th>\n      <td>6月15日 08:22</td>\n      <td>6月15日 15:30</td>\n      <td>#新冠病毒传播速度超过疫苗分发速度#庆幸自己在中国</td>\n      <td>06-15</td>\n      <td>0.995321</td>\n    </tr>\n    <tr>\n      <th>2447</th>\n      <td>6月15日 08:22</td>\n      <td>6月15日 15:20</td>\n      <td>🙏🙏🙏</td>\n      <td>06-15</td>\n      <td>0.500000</td>\n    </tr>\n    <tr>\n      <th>2448</th>\n      <td>6月15日 08:22</td>\n      <td>6月15日 14:47</td>\n      <td>最主要的是有的国家（比如：美国）它积压那么多疫苗，只留给贵族，穷人它们是不管的。</td>\n      <td>06-15</td>\n      <td>0.722874</td>\n    </tr>\n    <tr>\n      <th>2449</th>\n      <td>6月15日 08:22</td>\n      <td>6月15日 14:15</td>\n      <td>大力国不怕天不怕地</td>\n      <td>06-15</td>\n      <td>0.535310</td>\n    </tr>\n    <tr>\n      <th>2450</th>\n      <td>6月15日 08:22</td>\n      <td>6月15日 09:39</td>\n      <td>抗战艰难皆因少数志士不仅要杀鬼锄奸，还要保护谄媚疯买日美货旅游的傻瓜…！卖给中国日化商品里更...</td>\n      <td>06-15</td>\n      <td>1.000000</td>\n    </tr>\n  </tbody>\n</table>\n<p>1584 rows × 5 columns</p>\n</div>"
     },
     "execution_count": 188,
     "metadata": {},
     "output_type": "execute_result"
    }
   ],
   "source": [
    "#将firstC中‘博文发布时间’列转换为时间戳格式放入’time‘列\n",
    "GetStrptime(firstC,'博文发布时间','%m月%d日 %H:%M','time')\n",
    "firstC"
   ],
   "metadata": {
    "collapsed": false,
    "pycharm": {
     "name": "#%%\n"
    }
   }
  },
  {
   "cell_type": "code",
   "execution_count": 187,
   "outputs": [],
   "source": [
    "#情感分析\n",
    "senti=[SnowNLP(i).sentiments for i in firstC['评论内容']]\n",
    "firstC['情感值']=senti"
   ],
   "metadata": {
    "collapsed": false,
    "pycharm": {
     "name": "#%%\n"
    }
   }
  },
  {
   "cell_type": "code",
   "execution_count": 214,
   "outputs": [
    {
     "data": {
      "text/plain": "     time    情感值                                                              \\\n           count      mean       std       min       25%       50%       75%   \n0   06-15   93.0  0.676487  0.312125  0.011319  0.465576  0.734708  0.974997   \n1   06-16  130.0  0.486970  0.347012  0.000224  0.164292  0.470867  0.835799   \n2   06-18   25.0  0.677730  0.350124  0.000741  0.473767  0.853380  0.985771   \n3   06-19   13.0  0.839192  0.208553  0.376206  0.711656  0.929202  0.995875   \n4   06-26    5.0  0.397594  0.337672  0.047634  0.084838  0.457447  0.540127   \n5   06-28   50.0  0.559548  0.276996  0.006065  0.361746  0.556775  0.775931   \n6   07-08  151.0  0.627008  0.317641  0.004971  0.386908  0.669325  0.934807   \n7   07-11   48.0  0.546352  0.319869  0.025354  0.276375  0.489535  0.879853   \n8   07-12  481.0  0.569243  0.318906  0.000057  0.290772  0.586082  0.855903   \n9   07-13    1.0  0.113169       NaN  0.113169  0.113169  0.113169  0.113169   \n10  07-14  197.0  0.593584  0.292384  0.012643  0.344920  0.587521  0.886048   \n11  07-16  250.0  0.528355  0.329193  0.001296  0.237399  0.537384  0.843375   \n12  07-20   58.0  0.654015  0.325103  0.001615  0.446791  0.778134  0.945358   \n13  07-22   18.0  0.696447  0.275844  0.141164  0.545301  0.749138  0.913750   \n14  07-24   64.0  0.722769  0.288310  0.000003  0.555411  0.816237  0.977577   \n\n              \n         max  \n0   1.000000  \n1   0.999975  \n2   0.999980  \n3   0.999999  \n4   0.857924  \n5   0.988443  \n6   1.000000  \n7   0.999844  \n8   1.000000  \n9   0.113169  \n10  1.000000  \n11  1.000000  \n12  1.000000  \n13  0.999972  \n14  1.000000  ",
      "text/html": "<div>\n<style scoped>\n    .dataframe tbody tr th:only-of-type {\n        vertical-align: middle;\n    }\n\n    .dataframe tbody tr th {\n        vertical-align: top;\n    }\n\n    .dataframe thead tr th {\n        text-align: left;\n    }\n</style>\n<table border=\"1\" class=\"dataframe\">\n  <thead>\n    <tr>\n      <th></th>\n      <th>time</th>\n      <th colspan=\"8\" halign=\"left\">情感值</th>\n    </tr>\n    <tr>\n      <th></th>\n      <th></th>\n      <th>count</th>\n      <th>mean</th>\n      <th>std</th>\n      <th>min</th>\n      <th>25%</th>\n      <th>50%</th>\n      <th>75%</th>\n      <th>max</th>\n    </tr>\n  </thead>\n  <tbody>\n    <tr>\n      <th>0</th>\n      <td>06-15</td>\n      <td>93.0</td>\n      <td>0.676487</td>\n      <td>0.312125</td>\n      <td>0.011319</td>\n      <td>0.465576</td>\n      <td>0.734708</td>\n      <td>0.974997</td>\n      <td>1.000000</td>\n    </tr>\n    <tr>\n      <th>1</th>\n      <td>06-16</td>\n      <td>130.0</td>\n      <td>0.486970</td>\n      <td>0.347012</td>\n      <td>0.000224</td>\n      <td>0.164292</td>\n      <td>0.470867</td>\n      <td>0.835799</td>\n      <td>0.999975</td>\n    </tr>\n    <tr>\n      <th>2</th>\n      <td>06-18</td>\n      <td>25.0</td>\n      <td>0.677730</td>\n      <td>0.350124</td>\n      <td>0.000741</td>\n      <td>0.473767</td>\n      <td>0.853380</td>\n      <td>0.985771</td>\n      <td>0.999980</td>\n    </tr>\n    <tr>\n      <th>3</th>\n      <td>06-19</td>\n      <td>13.0</td>\n      <td>0.839192</td>\n      <td>0.208553</td>\n      <td>0.376206</td>\n      <td>0.711656</td>\n      <td>0.929202</td>\n      <td>0.995875</td>\n      <td>0.999999</td>\n    </tr>\n    <tr>\n      <th>4</th>\n      <td>06-26</td>\n      <td>5.0</td>\n      <td>0.397594</td>\n      <td>0.337672</td>\n      <td>0.047634</td>\n      <td>0.084838</td>\n      <td>0.457447</td>\n      <td>0.540127</td>\n      <td>0.857924</td>\n    </tr>\n    <tr>\n      <th>5</th>\n      <td>06-28</td>\n      <td>50.0</td>\n      <td>0.559548</td>\n      <td>0.276996</td>\n      <td>0.006065</td>\n      <td>0.361746</td>\n      <td>0.556775</td>\n      <td>0.775931</td>\n      <td>0.988443</td>\n    </tr>\n    <tr>\n      <th>6</th>\n      <td>07-08</td>\n      <td>151.0</td>\n      <td>0.627008</td>\n      <td>0.317641</td>\n      <td>0.004971</td>\n      <td>0.386908</td>\n      <td>0.669325</td>\n      <td>0.934807</td>\n      <td>1.000000</td>\n    </tr>\n    <tr>\n      <th>7</th>\n      <td>07-11</td>\n      <td>48.0</td>\n      <td>0.546352</td>\n      <td>0.319869</td>\n      <td>0.025354</td>\n      <td>0.276375</td>\n      <td>0.489535</td>\n      <td>0.879853</td>\n      <td>0.999844</td>\n    </tr>\n    <tr>\n      <th>8</th>\n      <td>07-12</td>\n      <td>481.0</td>\n      <td>0.569243</td>\n      <td>0.318906</td>\n      <td>0.000057</td>\n      <td>0.290772</td>\n      <td>0.586082</td>\n      <td>0.855903</td>\n      <td>1.000000</td>\n    </tr>\n    <tr>\n      <th>9</th>\n      <td>07-13</td>\n      <td>1.0</td>\n      <td>0.113169</td>\n      <td>NaN</td>\n      <td>0.113169</td>\n      <td>0.113169</td>\n      <td>0.113169</td>\n      <td>0.113169</td>\n      <td>0.113169</td>\n    </tr>\n    <tr>\n      <th>10</th>\n      <td>07-14</td>\n      <td>197.0</td>\n      <td>0.593584</td>\n      <td>0.292384</td>\n      <td>0.012643</td>\n      <td>0.344920</td>\n      <td>0.587521</td>\n      <td>0.886048</td>\n      <td>1.000000</td>\n    </tr>\n    <tr>\n      <th>11</th>\n      <td>07-16</td>\n      <td>250.0</td>\n      <td>0.528355</td>\n      <td>0.329193</td>\n      <td>0.001296</td>\n      <td>0.237399</td>\n      <td>0.537384</td>\n      <td>0.843375</td>\n      <td>1.000000</td>\n    </tr>\n    <tr>\n      <th>12</th>\n      <td>07-20</td>\n      <td>58.0</td>\n      <td>0.654015</td>\n      <td>0.325103</td>\n      <td>0.001615</td>\n      <td>0.446791</td>\n      <td>0.778134</td>\n      <td>0.945358</td>\n      <td>1.000000</td>\n    </tr>\n    <tr>\n      <th>13</th>\n      <td>07-22</td>\n      <td>18.0</td>\n      <td>0.696447</td>\n      <td>0.275844</td>\n      <td>0.141164</td>\n      <td>0.545301</td>\n      <td>0.749138</td>\n      <td>0.913750</td>\n      <td>0.999972</td>\n    </tr>\n    <tr>\n      <th>14</th>\n      <td>07-24</td>\n      <td>64.0</td>\n      <td>0.722769</td>\n      <td>0.288310</td>\n      <td>0.000003</td>\n      <td>0.555411</td>\n      <td>0.816237</td>\n      <td>0.977577</td>\n      <td>1.000000</td>\n    </tr>\n  </tbody>\n</table>\n</div>"
     },
     "execution_count": 214,
     "metadata": {},
     "output_type": "execute_result"
    }
   ],
   "source": [
    "#获取每条博文下评论情感值平均值\n",
    "grouped = firstC.groupby('time').describe().reset_index()\n",
    "sentiment_average = firstC.groupby('time')['情感值'].mean()\n",
    "grouped"
   ],
   "metadata": {
    "collapsed": false,
    "pycharm": {
     "name": "#%%\n"
    }
   }
  },
  {
   "cell_type": "code",
   "execution_count": 215,
   "outputs": [
    {
     "data": {
      "text/plain": "                                      情感值                                \\\n                                    count      mean       std       min   \ntime                                                                      \n(1900, 6, 15, 0, 0, 0, 4, 166, -1)   93.0  0.676487  0.312125  0.011319   \n(1900, 6, 16, 0, 0, 0, 5, 167, -1)  130.0  0.486970  0.347012  0.000224   \n(1900, 6, 18, 0, 0, 0, 0, 169, -1)   25.0  0.677730  0.350124  0.000741   \n(1900, 6, 19, 0, 0, 0, 1, 170, -1)   13.0  0.839192  0.208553  0.376206   \n(1900, 6, 26, 0, 0, 0, 1, 177, -1)    5.0  0.397594  0.337672  0.047634   \n(1900, 6, 28, 0, 0, 0, 3, 179, -1)   50.0  0.559548  0.276996  0.006065   \n(1900, 7, 8, 0, 0, 0, 6, 189, -1)   151.0  0.627008  0.317641  0.004971   \n(1900, 7, 11, 0, 0, 0, 2, 192, -1)   48.0  0.546352  0.319869  0.025354   \n(1900, 7, 12, 0, 0, 0, 3, 193, -1)  481.0  0.569243  0.318906  0.000057   \n(1900, 7, 13, 0, 0, 0, 4, 194, -1)    1.0  0.113169       NaN  0.113169   \n(1900, 7, 14, 0, 0, 0, 5, 195, -1)  197.0  0.593584  0.292384  0.012643   \n(1900, 7, 16, 0, 0, 0, 0, 197, -1)  250.0  0.528355  0.329193  0.001296   \n(1900, 7, 20, 0, 0, 0, 4, 201, -1)   58.0  0.654015  0.325103  0.001615   \n(1900, 7, 22, 0, 0, 0, 6, 203, -1)   18.0  0.696447  0.275844  0.141164   \n(1900, 7, 24, 0, 0, 0, 1, 205, -1)   64.0  0.722769  0.288310  0.000003   \n\n                                                                            \n                                         25%       50%       75%       max  \ntime                                                                        \n(1900, 6, 15, 0, 0, 0, 4, 166, -1)  0.465576  0.734708  0.974997  1.000000  \n(1900, 6, 16, 0, 0, 0, 5, 167, -1)  0.164292  0.470867  0.835799  0.999975  \n(1900, 6, 18, 0, 0, 0, 0, 169, -1)  0.473767  0.853380  0.985771  0.999980  \n(1900, 6, 19, 0, 0, 0, 1, 170, -1)  0.711656  0.929202  0.995875  0.999999  \n(1900, 6, 26, 0, 0, 0, 1, 177, -1)  0.084838  0.457447  0.540127  0.857924  \n(1900, 6, 28, 0, 0, 0, 3, 179, -1)  0.361746  0.556775  0.775931  0.988443  \n(1900, 7, 8, 0, 0, 0, 6, 189, -1)   0.386908  0.669325  0.934807  1.000000  \n(1900, 7, 11, 0, 0, 0, 2, 192, -1)  0.276375  0.489535  0.879853  0.999844  \n(1900, 7, 12, 0, 0, 0, 3, 193, -1)  0.290772  0.586082  0.855903  1.000000  \n(1900, 7, 13, 0, 0, 0, 4, 194, -1)  0.113169  0.113169  0.113169  0.113169  \n(1900, 7, 14, 0, 0, 0, 5, 195, -1)  0.344920  0.587521  0.886048  1.000000  \n(1900, 7, 16, 0, 0, 0, 0, 197, -1)  0.237399  0.537384  0.843375  1.000000  \n(1900, 7, 20, 0, 0, 0, 4, 201, -1)  0.446791  0.778134  0.945358  1.000000  \n(1900, 7, 22, 0, 0, 0, 6, 203, -1)  0.545301  0.749138  0.913750  0.999972  \n(1900, 7, 24, 0, 0, 0, 1, 205, -1)  0.555411  0.816237  0.977577  1.000000  ",
      "text/html": "<div>\n<style scoped>\n    .dataframe tbody tr th:only-of-type {\n        vertical-align: middle;\n    }\n\n    .dataframe tbody tr th {\n        vertical-align: top;\n    }\n\n    .dataframe thead tr th {\n        text-align: left;\n    }\n\n    .dataframe thead tr:last-of-type th {\n        text-align: right;\n    }\n</style>\n<table border=\"1\" class=\"dataframe\">\n  <thead>\n    <tr>\n      <th></th>\n      <th colspan=\"8\" halign=\"left\">情感值</th>\n    </tr>\n    <tr>\n      <th></th>\n      <th>count</th>\n      <th>mean</th>\n      <th>std</th>\n      <th>min</th>\n      <th>25%</th>\n      <th>50%</th>\n      <th>75%</th>\n      <th>max</th>\n    </tr>\n    <tr>\n      <th>time</th>\n      <th></th>\n      <th></th>\n      <th></th>\n      <th></th>\n      <th></th>\n      <th></th>\n      <th></th>\n      <th></th>\n    </tr>\n  </thead>\n  <tbody>\n    <tr>\n      <th>(1900, 6, 15, 0, 0, 0, 4, 166, -1)</th>\n      <td>93.0</td>\n      <td>0.676487</td>\n      <td>0.312125</td>\n      <td>0.011319</td>\n      <td>0.465576</td>\n      <td>0.734708</td>\n      <td>0.974997</td>\n      <td>1.000000</td>\n    </tr>\n    <tr>\n      <th>(1900, 6, 16, 0, 0, 0, 5, 167, -1)</th>\n      <td>130.0</td>\n      <td>0.486970</td>\n      <td>0.347012</td>\n      <td>0.000224</td>\n      <td>0.164292</td>\n      <td>0.470867</td>\n      <td>0.835799</td>\n      <td>0.999975</td>\n    </tr>\n    <tr>\n      <th>(1900, 6, 18, 0, 0, 0, 0, 169, -1)</th>\n      <td>25.0</td>\n      <td>0.677730</td>\n      <td>0.350124</td>\n      <td>0.000741</td>\n      <td>0.473767</td>\n      <td>0.853380</td>\n      <td>0.985771</td>\n      <td>0.999980</td>\n    </tr>\n    <tr>\n      <th>(1900, 6, 19, 0, 0, 0, 1, 170, -1)</th>\n      <td>13.0</td>\n      <td>0.839192</td>\n      <td>0.208553</td>\n      <td>0.376206</td>\n      <td>0.711656</td>\n      <td>0.929202</td>\n      <td>0.995875</td>\n      <td>0.999999</td>\n    </tr>\n    <tr>\n      <th>(1900, 6, 26, 0, 0, 0, 1, 177, -1)</th>\n      <td>5.0</td>\n      <td>0.397594</td>\n      <td>0.337672</td>\n      <td>0.047634</td>\n      <td>0.084838</td>\n      <td>0.457447</td>\n      <td>0.540127</td>\n      <td>0.857924</td>\n    </tr>\n    <tr>\n      <th>(1900, 6, 28, 0, 0, 0, 3, 179, -1)</th>\n      <td>50.0</td>\n      <td>0.559548</td>\n      <td>0.276996</td>\n      <td>0.006065</td>\n      <td>0.361746</td>\n      <td>0.556775</td>\n      <td>0.775931</td>\n      <td>0.988443</td>\n    </tr>\n    <tr>\n      <th>(1900, 7, 8, 0, 0, 0, 6, 189, -1)</th>\n      <td>151.0</td>\n      <td>0.627008</td>\n      <td>0.317641</td>\n      <td>0.004971</td>\n      <td>0.386908</td>\n      <td>0.669325</td>\n      <td>0.934807</td>\n      <td>1.000000</td>\n    </tr>\n    <tr>\n      <th>(1900, 7, 11, 0, 0, 0, 2, 192, -1)</th>\n      <td>48.0</td>\n      <td>0.546352</td>\n      <td>0.319869</td>\n      <td>0.025354</td>\n      <td>0.276375</td>\n      <td>0.489535</td>\n      <td>0.879853</td>\n      <td>0.999844</td>\n    </tr>\n    <tr>\n      <th>(1900, 7, 12, 0, 0, 0, 3, 193, -1)</th>\n      <td>481.0</td>\n      <td>0.569243</td>\n      <td>0.318906</td>\n      <td>0.000057</td>\n      <td>0.290772</td>\n      <td>0.586082</td>\n      <td>0.855903</td>\n      <td>1.000000</td>\n    </tr>\n    <tr>\n      <th>(1900, 7, 13, 0, 0, 0, 4, 194, -1)</th>\n      <td>1.0</td>\n      <td>0.113169</td>\n      <td>NaN</td>\n      <td>0.113169</td>\n      <td>0.113169</td>\n      <td>0.113169</td>\n      <td>0.113169</td>\n      <td>0.113169</td>\n    </tr>\n    <tr>\n      <th>(1900, 7, 14, 0, 0, 0, 5, 195, -1)</th>\n      <td>197.0</td>\n      <td>0.593584</td>\n      <td>0.292384</td>\n      <td>0.012643</td>\n      <td>0.344920</td>\n      <td>0.587521</td>\n      <td>0.886048</td>\n      <td>1.000000</td>\n    </tr>\n    <tr>\n      <th>(1900, 7, 16, 0, 0, 0, 0, 197, -1)</th>\n      <td>250.0</td>\n      <td>0.528355</td>\n      <td>0.329193</td>\n      <td>0.001296</td>\n      <td>0.237399</td>\n      <td>0.537384</td>\n      <td>0.843375</td>\n      <td>1.000000</td>\n    </tr>\n    <tr>\n      <th>(1900, 7, 20, 0, 0, 0, 4, 201, -1)</th>\n      <td>58.0</td>\n      <td>0.654015</td>\n      <td>0.325103</td>\n      <td>0.001615</td>\n      <td>0.446791</td>\n      <td>0.778134</td>\n      <td>0.945358</td>\n      <td>1.000000</td>\n    </tr>\n    <tr>\n      <th>(1900, 7, 22, 0, 0, 0, 6, 203, -1)</th>\n      <td>18.0</td>\n      <td>0.696447</td>\n      <td>0.275844</td>\n      <td>0.141164</td>\n      <td>0.545301</td>\n      <td>0.749138</td>\n      <td>0.913750</td>\n      <td>0.999972</td>\n    </tr>\n    <tr>\n      <th>(1900, 7, 24, 0, 0, 0, 1, 205, -1)</th>\n      <td>64.0</td>\n      <td>0.722769</td>\n      <td>0.288310</td>\n      <td>0.000003</td>\n      <td>0.555411</td>\n      <td>0.816237</td>\n      <td>0.977577</td>\n      <td>1.000000</td>\n    </tr>\n  </tbody>\n</table>\n</div>"
     },
     "execution_count": 215,
     "metadata": {},
     "output_type": "execute_result"
    }
   ],
   "source": [
    "#画图。\n",
    "\n",
    "# grouped['time']= [time.strptime(i, '%m-%d')for i in grouped['time']]\n",
    "# grouped.set_index('time')\n",
    "# grouped['情感值']['mean'].plot()\n",
    "\n",
    "\n",
    "\n",
    "import matplotlib.pyplot as plt\n",
    "from datetime import datetime, date, timedelta\n",
    "t = [time.strptime(i, '%m/%d').date() for i in grouped['time']]\n",
    "#如何按时间戳正确排列数据仍不理解，故将时间戳转为字符串格式，显示正常，但无法有真实时间的间隔长度\n",
    "figure = plt.figure(figsize=(10,6))\n",
    "plt.plot(t,sentiment_average, 'o-',label=\"情感值\")\n",
    "plt.rcParams['font.sans-serif']=['simhei'] # 添加中文字体为黑体\n",
    "plt.rcParams['axes.unicode_minus'] =False\n",
    "plt.xlabel('Date', c='w')\n",
    "plt.ylabel(u\"情感值\",c='w')\n",
    "plt.grid(ls = '--')\n",
    "ax = plt.gca()\n",
    "ax = plt.gca()\n",
    "plt.xticks(rotation=90, ha='center',c='w')\n",
    "plt.yticks(c='w')\n",
    "plt.legend(loc='upper right')\n",
    "plt.tight_layout()#显示完全\n",
    "figure.savefig('曲线.jpg', facecolor='k', dpi=200, transparent=True)"
   ],
   "metadata": {
    "collapsed": false,
    "pycharm": {
     "name": "#%%\n"
    }
   }
  },
  {
   "cell_type": "code",
   "execution_count": null,
   "outputs": [],
   "source": [],
   "metadata": {
    "collapsed": false,
    "pycharm": {
     "name": "#%%\n"
    }
   }
  },
  {
   "cell_type": "code",
   "execution_count": null,
   "outputs": [],
   "source": [],
   "metadata": {
    "collapsed": false,
    "pycharm": {
     "name": "#%%\n"
    }
   }
  }
 ],
 "metadata": {
  "kernelspec": {
   "display_name": "PyCharm (pythonProject1)",
   "language": "python",
   "name": "pycharm-11103701"
  },
  "language_info": {
   "codemirror_mode": {
    "name": "ipython",
    "version": 3
   },
   "file_extension": ".py",
   "mimetype": "text/x-python",
   "name": "python",
   "nbconvert_exporter": "python",
   "pygments_lexer": "ipython3",
   "version": "3.8.5"
  }
 },
 "nbformat": 4,
 "nbformat_minor": 4
}